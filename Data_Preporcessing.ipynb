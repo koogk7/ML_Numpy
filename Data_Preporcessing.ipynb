{
  "nbformat": 4,
  "nbformat_minor": 0,
  "metadata": {
    "colab": {
      "name": "Data_Preporcessing.ipynb",
      "version": "0.3.2",
      "provenance": [],
      "include_colab_link": true
    },
    "kernelspec": {
      "name": "python3",
      "display_name": "Python 3"
    }
  },
  "cells": [
    {
      "cell_type": "markdown",
      "metadata": {
        "id": "view-in-github",
        "colab_type": "text"
      },
      "source": [
        "<a href=\"https://colab.research.google.com/github/koogk7/ML_perfect_guide/blob/master/Data_Preporcessing.ipynb\" target=\"_parent\"><img src=\"https://colab.research.google.com/assets/colab-badge.svg\" alt=\"Open In Colab\"/></a>"
      ]
    },
    {
      "cell_type": "markdown",
      "metadata": {
        "id": "Ff8KUVDb-of6",
        "colab_type": "text"
      },
      "source": [
        "## 데이터 전처리\n",
        "- 사이킷런의 머신러닝 알고리즘은 문자열 값을 입력 값으로 허용하지 않는다. 따라서 모든 문자열은 인코딩돼서 숫자 형으로 변환해야 한다. \n",
        "- 주민번호나 아이디와 같은 식별자 피처는 단순이 식별 용도로 사용되기 때문에 인코딩하지 않고 삭제하는 편이 좋음\n",
        "  \n",
        "## 레이블 인코딩\n",
        "  - 카테고리피처를 숫자 값으로 변환하는 것\n",
        "  - 레이블 인코딩은 ***선형회귀와 같은 ML알고리즘에는 적용하지 않아야한다***. 이유는 숫자 값의 경우 크도 작음에 대한 특성이 있기때문에 이에따라 가중치가 달라 질 수 있다. 트리계열의 ML 알고리즘은 숫자의 이러한 특성을 반영하지 않으므로 상관없다."
      ]
    },
    {
      "cell_type": "code",
      "metadata": {
        "id": "YbADNpEl_q59",
        "colab_type": "code",
        "colab": {
          "base_uri": "https://localhost:8080/",
          "height": 68
        },
        "outputId": "e0622431-0374-4965-bd0f-16260dd59c4f"
      },
      "source": [
        "from sklearn.preprocessing import LabelEncoder\n",
        "\n",
        "items = ['TV', '냉장고', '전자레인지', '믹서', '믹서']\n",
        "\n",
        "# 객체를 생성한 후 ,fit() 과 transform()으로 레이블 인코드 수행\n",
        "encoder = LabelEncoder()\n",
        "encoder.fit(items) \n",
        "labels = encoder.transform(items)\n",
        "print(\"인코딩 변환값: \", labels)\n",
        "print(\"인코딩 클래스: \", encoder.classes_) # 0번부터 순서대로 인코딩 값 원본을 가지고 있다.\n",
        "print(\"디코딩 원본값: \", encoder.inverse_transform([1,2,3,0,0]))"
      ],
      "execution_count": 3,
      "outputs": [
        {
          "output_type": "stream",
          "text": [
            "인코딩 변환값:  [0 1 3 2 2]\n",
            "인코딩 클래스:  ['TV' '냉장고' '믹서' '전자레인지']\n",
            "디코딩 원본값:  ['냉장고' '믹서' '전자레인지' 'TV' 'TV']\n"
          ],
          "name": "stdout"
        }
      ]
    },
    {
      "cell_type": "markdown",
      "metadata": {
        "id": "jSsR-sDaBmjr",
        "colab_type": "text"
      },
      "source": [
        "-----\n",
        "## 원-핫 인코딩\n",
        "  - 피처 값의 유형에 따라 새로운 피처를 추가해 고유 값에 해당하는 칼럼에만 1을 표시하고 나머지 칼럼에는 0을 표시하는 방식, 즉 여러개의 속성 중 단 한개의 속성만 1로 표시한다.\n",
        "  - 로우 형태로 되있는 피처의 고유값을 컬럼 형태로 차원을 변환한 뒤, 고유 값에 해당하는 칼럼에만 1을 표시하고 나머지에는 0을 표시한다.\n",
        "  - 모든 문자열 값이 숫자형 값으로 변환되야하며, 입력값으로 2차원 데이터가 필요하다\n",
        "  - 판다스에서는 ***get_dummies()***를 이용해 숫가 형으로 변환 할 필요없이 바로 인코딩을 할 수 있다."
      ]
    },
    {
      "cell_type": "code",
      "metadata": {
        "id": "HfrGmJJRCUuf",
        "colab_type": "code",
        "colab": {
          "base_uri": "https://localhost:8080/",
          "height": 513
        },
        "outputId": "864b17fc-6c3d-4ca6-e77f-8eb70613a782"
      },
      "source": [
        "from sklearn.preprocessing import OneHotEncoder\n",
        "import numpy as np\n",
        "\n",
        "encoder = LabelEncoder()\n",
        "encoder.fit(items) \n",
        "labels = encoder.transform(items)\n",
        "\n",
        "# 2차원 데이터로 변환\n",
        "labels = labels.reshape(-1, 1)\n",
        "print(labels)\n",
        "\n",
        "# 원-핫 인코딩을 적용\n",
        "oh_encoder = OneHotEncoder()\n",
        "oh_encoder.fit(labels)\n",
        "oh_labels = oh_encoder.transform(labels)\n",
        "print('원-핫 인코딩 데이터')\n",
        "print(oh_labels.toarray())\n",
        "print('원-핫 인코딩 데이터 차원')\n",
        "print(oh_labels.shape)\n",
        "\n",
        "import pandas as pd\n",
        "\n",
        "df = pd.DataFrame({'item': items})\n",
        "# pd.get_dummies(df)"
      ],
      "execution_count": 6,
      "outputs": [
        {
          "output_type": "stream",
          "text": [
            "[[0]\n",
            " [1]\n",
            " [3]\n",
            " [2]\n",
            " [2]]\n",
            "원-핫 인코딩 데이터\n",
            "[[1. 0. 0. 0.]\n",
            " [0. 1. 0. 0.]\n",
            " [0. 0. 0. 1.]\n",
            " [0. 0. 1. 0.]\n",
            " [0. 0. 1. 0.]]\n",
            "원-핫 인코딩 데이터 차원\n",
            "(5, 4)\n"
          ],
          "name": "stdout"
        },
        {
          "output_type": "stream",
          "text": [
            "/usr/local/lib/python3.6/dist-packages/sklearn/preprocessing/_encoders.py:415: FutureWarning: The handling of integer data will change in version 0.22. Currently, the categories are determined based on the range [0, max(values)], while in the future they will be determined based on the unique values.\n",
            "If you want the future behaviour and silence this warning, you can specify \"categories='auto'\".\n",
            "In case you used a LabelEncoder before this OneHotEncoder to convert the categories to integers, then you can now use the OneHotEncoder directly.\n",
            "  warnings.warn(msg, FutureWarning)\n"
          ],
          "name": "stderr"
        },
        {
          "output_type": "execute_result",
          "data": {
            "text/html": [
              "<div>\n",
              "<style scoped>\n",
              "    .dataframe tbody tr th:only-of-type {\n",
              "        vertical-align: middle;\n",
              "    }\n",
              "\n",
              "    .dataframe tbody tr th {\n",
              "        vertical-align: top;\n",
              "    }\n",
              "\n",
              "    .dataframe thead th {\n",
              "        text-align: right;\n",
              "    }\n",
              "</style>\n",
              "<table border=\"1\" class=\"dataframe\">\n",
              "  <thead>\n",
              "    <tr style=\"text-align: right;\">\n",
              "      <th></th>\n",
              "      <th>item_TV</th>\n",
              "      <th>item_냉장고</th>\n",
              "      <th>item_믹서</th>\n",
              "      <th>item_전자레인지</th>\n",
              "    </tr>\n",
              "  </thead>\n",
              "  <tbody>\n",
              "    <tr>\n",
              "      <th>0</th>\n",
              "      <td>1</td>\n",
              "      <td>0</td>\n",
              "      <td>0</td>\n",
              "      <td>0</td>\n",
              "    </tr>\n",
              "    <tr>\n",
              "      <th>1</th>\n",
              "      <td>0</td>\n",
              "      <td>1</td>\n",
              "      <td>0</td>\n",
              "      <td>0</td>\n",
              "    </tr>\n",
              "    <tr>\n",
              "      <th>2</th>\n",
              "      <td>0</td>\n",
              "      <td>0</td>\n",
              "      <td>0</td>\n",
              "      <td>1</td>\n",
              "    </tr>\n",
              "    <tr>\n",
              "      <th>3</th>\n",
              "      <td>0</td>\n",
              "      <td>0</td>\n",
              "      <td>1</td>\n",
              "      <td>0</td>\n",
              "    </tr>\n",
              "    <tr>\n",
              "      <th>4</th>\n",
              "      <td>0</td>\n",
              "      <td>0</td>\n",
              "      <td>1</td>\n",
              "      <td>0</td>\n",
              "    </tr>\n",
              "  </tbody>\n",
              "</table>\n",
              "</div>"
            ],
            "text/plain": [
              "   item_TV  item_냉장고  item_믹서  item_전자레인지\n",
              "0        1         0        0           0\n",
              "1        0         1        0           0\n",
              "2        0         0        0           1\n",
              "3        0         0        1           0\n",
              "4        0         0        1           0"
            ]
          },
          "metadata": {
            "tags": []
          },
          "execution_count": 6
        }
      ]
    },
    {
      "cell_type": "markdown",
      "metadata": {
        "id": "4G5wFrXvEK4y",
        "colab_type": "text"
      },
      "source": [
        "---\n",
        "\n",
        "## 피처스케일링과 정규화\n",
        "- 서로 다른 변수의 값 범위를 일정한 수준으로 맞추는 작업을 ***피처 스케일링***이라하고, 대표적인 방법으로 표준화와 정규화가 있다.\n",
        "- 표준화(Standardization)는 데이터의 피처 각각이 평균이 0이고 분산이 1인 가우시안 정규분포를 가진 값으로 변환하는 것을 의미  \n",
        "    ![대체 텍스트](https://postfiles.pstatic.net/MjAxODA3MzFfNDIg/MDAxNTMzMDIwOTUwMjk0.rDioAfP5eatJ8SPoUOJFMZfUQtprCC99gvKFkWU6k3Yg.gDW93QnA2VR0XyYI8KFZD2bytVEhlEsDT-A8wHk9DS0g.PNG.angryking/2304E84656B1B53A07.png?type=w773)\n",
        "\n",
        "- 정규화(Normalization)는 일반적으로 서로 다른 피처의 크기를 통합하기 위해 크기를 변환해주는 개념\n",
        "- StandardScaler는 표준화를 쉽게 지원하기 위한 클래스, 개벌 피처를 평균이 0이고 분산인 1인 값으로 변환해준다.\n",
        "- SVM, 선형 회귀, 로지틱회귀는 데이터가 가우시안 분포를 가지고 있다고 가정하고 구현되어 있기때문에 사전에 표쥰화를 적용하는 것은 성능향상에 중요한 요소가 될 수 있다.\n",
        "- MinMaxScaler는 데이터 값을 0과 1사이의 범위 값으로 변환(음수 값이 있다면 -1~1값으로 변환), 데이터  분포가 가우시안 분포가 아닐 경우에 Min, Max Scale를 적용 해볼 수 있다."
      ]
    },
    {
      "cell_type": "code",
      "metadata": {
        "id": "b1_fM0GlGXSM",
        "colab_type": "code",
        "colab": {
          "base_uri": "https://localhost:8080/",
          "height": 493
        },
        "outputId": "e7083802-310e-4e5d-97f0-c5142d625068"
      },
      "source": [
        "from sklearn.datasets import load_iris\n",
        "from sklearn.preprocessing import StandardScaler\n",
        "from sklearn.preprocessing import MinMaxScaler\n",
        "\n",
        "import pandas as pd\n",
        "\n",
        "iris = load_iris()\n",
        "iris_df = pd.DataFrame(data=iris.data, columns=iris.feature_names)\n",
        "\n",
        "print(\"feature들의 평균 값\")\n",
        "print(iris_df.mean())\n",
        "print('\\nfeature들의 분산 값')\n",
        "print(iris_df.var())\n",
        "\n",
        "print(\"StandardScaler\".center(50, \"#\"))\n",
        "\n",
        "# 객체 생성\n",
        "scaler = StandardScaler()\n",
        "scaler.fit(iris_df)\n",
        "iris_scaled = scaler.transform(iris_df) # Numpy ndarray로 반환\n",
        "\n",
        "iris_df_scaled = pd.DataFrame(data=iris_scaled, columns=iris.feature_names)\n",
        "print('\\nfeature들의 평균 값')\n",
        "print(iris_df_scaled.mean())\n",
        "print('\\nfeature들의 분산 값')\n",
        "print(iris_df_scaled.var())\n",
        "\n"
      ],
      "execution_count": 13,
      "outputs": [
        {
          "output_type": "stream",
          "text": [
            "feature들의 평균 값\n",
            "sepal length (cm)    5.843333\n",
            "sepal width (cm)     3.057333\n",
            "petal length (cm)    3.758000\n",
            "petal width (cm)     1.199333\n",
            "dtype: float64\n",
            "\n",
            "feature들의 분산 값\n",
            "sepal length (cm)    0.685694\n",
            "sepal width (cm)     0.189979\n",
            "petal length (cm)    3.116278\n",
            "petal width (cm)     0.581006\n",
            "dtype: float64\n",
            "##################StandardScaler##################\n",
            "\n",
            "feature들의 평균 값\n",
            "sepal length (cm)   -1.690315e-15\n",
            "sepal width (cm)    -1.842970e-15\n",
            "petal length (cm)   -1.698641e-15\n",
            "petal width (cm)    -1.409243e-15\n",
            "dtype: float64\n",
            "\n",
            "feature들의 분산 값\n",
            "sepal length (cm)    1.006711\n",
            "sepal width (cm)     1.006711\n",
            "petal length (cm)    1.006711\n",
            "petal width (cm)     1.006711\n",
            "dtype: float64\n"
          ],
          "name": "stdout"
        }
      ]
    }
  ]
}