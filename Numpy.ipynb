{
  "nbformat": 4,
  "nbformat_minor": 0,
  "metadata": {
    "colab": {
      "name": "Numpy",
      "version": "0.3.2",
      "provenance": [],
      "collapsed_sections": [],
      "include_colab_link": true
    },
    "kernelspec": {
      "name": "python3",
      "display_name": "Python 3"
    }
  },
  "cells": [
    {
      "cell_type": "markdown",
      "metadata": {
        "id": "view-in-github",
        "colab_type": "text"
      },
      "source": [
        "<a href=\"https://colab.research.google.com/github/koogk7/ML_numpy/blob/master/Numpy.ipynb\" target=\"_parent\"><img src=\"https://colab.research.google.com/assets/colab-badge.svg\" alt=\"Open In Colab\"/></a>"
      ]
    },
    {
      "cell_type": "markdown",
      "metadata": {
        "id": "725-U1zdHQAV",
        "colab_type": "text"
      },
      "source": [
        "# Numpy Introduction\n",
        "\n",
        "- numpy 기반 데이터 타입은 ***ndarray***, 이를 이용해서 다차원 배열을 쉽게 생성하고 다양한 연산 수행 가능\n",
        "- ***array()*** 함수는 파이썬 리스트와 같은 다양한 인자를 ndarray로 변환한다.\n",
        "- ***ndarray의 shape 변수***는 행과 열의 수를 튜플 형태로 가지고 있다. 이를 통해 배열 차원까지 확인 할 수 있다.\n",
        "- ndarray내의 데이터값은 숫자, 문자열 ,bool 값등 모두 가능, 단 모둔 원소들이 같은 데이터 타입이어야 함. 데이터타입은 ***dtype***속성으로 확인 할 수 있다.\n",
        "- 만약 서로 다른 데이터타입을 ndarray로 변환 할 경우 데이터 크기가 ***더 큰 데이터 타입으로 형 변환을 일괄 적용***\n",
        "- ***astype()*** 함수로 데이터값의 타입 변경 가능"
      ]
    },
    {
      "cell_type": "code",
      "metadata": {
        "id": "3Qm4--tOHex_",
        "colab_type": "code",
        "outputId": "6719a416-8a08-44d6-d87e-ddad1717774c",
        "colab": {
          "base_uri": "https://localhost:8080/",
          "height": 238
        }
      },
      "source": [
        "import numpy as np\n",
        "\n",
        "array1 = np.array([1, 2, 3]) # python list를 ndarray로 변환\n",
        "print(\"array1 type:\", type(array1))\n",
        "print(\"array1 shape:\", array1.shape)\n",
        "\n",
        "array2 = np.array([ [1, 2, 3],[2, 3, 4] ])\n",
        "print(\"array2 type:\", type(array2))\n",
        "print(\"array2 shape:\", array2.shape)\n",
        "\n",
        "\n",
        "array3 = np.array([[1, 2, 3]])\n",
        "print(\"array3 type:\", type(array3))\n",
        "print(\"array3 shape:\", array3.shape)\n",
        "\n",
        "# ndim은 해당 ndarray의 차원을 나타낸다.\n",
        "print('array1: {:0}차원, array2: {:1}차원, array3: {:2}차원'.format(array1.ndim,\n",
        "                                                             array2.ndim, array3.ndim))\n",
        "# dtype을 통한 데이터타입 확인\n",
        "print(array1, array1.dtype)\n",
        "print()\n",
        "\n",
        "print(\"Several Type List to ndarray\".center(100, \"#\"))\n",
        "\n",
        "list1 = [1, 2, 'test']\n",
        "array2 = np.array(list1)\n",
        "print(array2, array2.dtype)\n",
        "\n",
        "list2 = [1, 2, 3.0]\n",
        "array3 = np.array(list2)\n",
        "print(array3, array3.dtype)\n",
        "\n",
        "#----astype를 이용한 타입변경------\n",
        "toInt = array3.astype('int32')\n",
        "print(toInt, toInt.dtype)"
      ],
      "execution_count": 0,
      "outputs": [
        {
          "output_type": "stream",
          "text": [
            "array1 type: <class 'numpy.ndarray'>\n",
            "array1 shape: (3,)\n",
            "array2 type: <class 'numpy.ndarray'>\n",
            "array2 shape: (2, 3)\n",
            "array3 type: <class 'numpy.ndarray'>\n",
            "array3 shape: (1, 3)\n",
            "array1: 1차원, array2: 2차원, array3:  2차원\n",
            "[1 2 3] int64\n",
            "\n",
            "####################################Several Type List to ndarray####################################\n",
            "['1' '2' 'test'] <U21\n",
            "[1. 2. 3.] float64\n",
            "[1 2 3] int32\n"
          ],
          "name": "stdout"
        }
      ]
    },
    {
      "cell_type": "markdown",
      "metadata": {
        "id": "JSf0J6M0Mhep",
        "colab_type": "text"
      },
      "source": [
        "# Numpy Initialize\n",
        "\n",
        "- ***arange*** 는 배열을 range로 표현 파이썬의 range 함수와 유사, 0부터 함수 인자값 -1 까지 순차적으로 ndarrayd의 데이터값으로 변환해준다.\n",
        "- ***zeros()***는 함수 인자로 튜플 형태의 shape값을 입력하면 모든 값을 0으로 채운 해당 shape ndarray 반환 , ones는 마찬가지로 1을 채워서 반환, 함수인자로 dtype을 정해주지 않으면 float64 형의 데이터로 채운다.\n",
        "\n",
        "\n"
      ]
    },
    {
      "cell_type": "code",
      "metadata": {
        "id": "geKF5L1uM8EP",
        "colab_type": "code",
        "outputId": "b44fa828-b7e1-4001-e49e-82dc4aa9afa6",
        "colab": {
          "base_uri": "https://localhost:8080/",
          "height": 136
        }
      },
      "source": [
        "sequence_array = np.arange(10)\n",
        "print(sequence_array)\n",
        "\n",
        "zero_array = np.zeros((3,2), dtype='int32')\n",
        "one_array = np.ones((3,2))\n",
        "print(zero_array, zero_array.shape)\n",
        "print(one_array,  one_array.shape)"
      ],
      "execution_count": 0,
      "outputs": [
        {
          "output_type": "stream",
          "text": [
            "[0 1 2 3 4 5 6 7 8 9]\n",
            "[[0 0]\n",
            " [0 0]\n",
            " [0 0]] (3, 2)\n",
            "[[1. 1.]\n",
            " [1. 1.]\n",
            " [1. 1.]] (3, 2)\n"
          ],
          "name": "stdout"
        }
      ]
    },
    {
      "cell_type": "markdown",
      "metadata": {
        "id": "tRFp6ZmaOmla",
        "colab_type": "text"
      },
      "source": [
        "# reshape() 함수\n",
        "- reshape() 함수를 통해 특정 차원 및 크기로 변환할 수 있다. 또한 인자로 -1을 넣어줄 경우 데이터와 호환될 수 있게게 자동으로 변환 해준다.\n",
        "- 호환될 수 없는 형태는 반환할 수 없음으로 ValueError를 뱉어낸다.\n",
        "- -1인자는 reshape(-1,1)와 같은 형태로 자주 사용, 이는 원본 ndarray가 어떤 형태라도 2차원이고 반드시 1개의 칼럼을 가진 ndarray를 리턴"
      ]
    },
    {
      "cell_type": "code",
      "metadata": {
        "id": "MXWIFe2pO5Cu",
        "colab_type": "code",
        "outputId": "8794d6bc-f378-4328-ffdc-7704bc87fd5f",
        "colab": {
          "base_uri": "https://localhost:8080/",
          "height": 170
        }
      },
      "source": [
        "array1 = np.arange(10)\n",
        "print(array1)\n",
        "array2 = array1.reshape(-1,5)\n",
        "print(\"array2 shape:\", array2.shape)\n",
        "print(array2)\n",
        "\n",
        "array1 = np.arange(8)\n",
        "array3d = array1.reshape((2,2,2))\n",
        "print('array3d:\\n', array3d.tolist()) # tolist() 메소드를 통해 리스트 자료형으로 변환 할 수 있다.\n",
        "\n",
        "# 3차원 ndarray를 2차원 ndarray로 변환\n",
        "array5 = array3d.reshape(-1,1)\n",
        "print('array5d:\\n', array5.tolist())\n",
        "print(\"array5d shape:\",array5.shape)\n"
      ],
      "execution_count": 0,
      "outputs": [
        {
          "output_type": "stream",
          "text": [
            "[0 1 2 3 4 5 6 7 8 9]\n",
            "array2 shape: (2, 5)\n",
            "[[0 1 2 3 4]\n",
            " [5 6 7 8 9]]\n",
            "array3d:\n",
            " [[[0, 1], [2, 3]], [[4, 5], [6, 7]]]\n",
            "array5d:\n",
            " [[0], [1], [2], [3], [4], [5], [6], [7]]\n",
            "array5d shape: (8, 1)\n"
          ],
          "name": "stdout"
        }
      ]
    },
    {
      "cell_type": "markdown",
      "metadata": {
        "id": "rokSQNCuRFk1",
        "colab_type": "text"
      },
      "source": [
        "# Indexing 및 정렬\n",
        "\n",
        " - Slicing : 슬라이싱은 연속된 인덱스상의 ndarray를 추출하는 방식\n",
        " - Fancy Indexing : 일정한 인덱싱 집합을 리스트 또는 ndarray 형태로 지정해 해당 위치에 있는 데이터 ndarray를 반환\n",
        " \n",
        "- Boolean Indexing: 특정 조건에 해당하는지 여부인 True/False 값 인덱싱 집합을 기반으로 반환, ndarray의 조건식을 붙이면 해당 크기만큼의 boolean 배열이 반환되고 이 값이 true인 놈들의 인덱스만 저장하고 이를 반환한다.\n",
        "\n",
        "- axis 0은 로우방향 축, axis 1은 칼럼방향의 축\n",
        "- ***np.sort()*** 함수는 원 행렬을 유지한채 정렬된 행렬을 반환, ***ndarray.sort()***는 원 행렬 자체를 정렬, 반환값는 None\n",
        "- ***np.argsort()***는 정렬 행렬의 원본 행렬 인덱스를 ndarray 형으로 반환\n",
        "- 넘파이는  Table 칼럼이나, DataFrame과 같은 메타 데이터를 가질 수 없다. 때문에 실제값과 그 값이 뜻하는 메타 데이터를 별도의 ndarray로 가져야한다. 이때 np.argsort()는가 매우 유용하게 쓰일 수 있다."
      ]
    },
    {
      "cell_type": "code",
      "metadata": {
        "id": "R9xUCZ3IPoEF",
        "colab_type": "code",
        "outputId": "1b4110c5-69a5-44af-c9bb-963f03ec2fa7",
        "colab": {
          "base_uri": "https://localhost:8080/",
          "height": 289
        }
      },
      "source": [
        "array1 = np.arange(start=1, stop=10)\n",
        "array3 = array1[:3] # 0~2인덱스까지 추출\n",
        "\n",
        "array2d = array1.reshape(3,3)\n",
        "print(array2d)\n",
        "print(\"array2d[0:2, 0:2]\\n\", array2d[0:2, 0:2])\n",
        "\n",
        "array3 = array1[array1 > 5]\n",
        "print('array1 > 5 불린 인덱싱 값 : ', array3)\n",
        "\n",
        "sort_array_desc = np.sort(array1)[::-1] # 내림차순 정렬\n",
        "print(sort_array_desc)\n",
        "\n",
        "array2d = np.array([[8, 12],\n",
        "                    [7, 1]])\n",
        "sort_array2d_axis0 = np.sort(array2d, axis=0)\n",
        "print(\"로우 방향으로 정렬:\\n\", sort_array2d_axis0)\n",
        "\n",
        "sort_array2d_axis1 = np.sort(array2d, axis=1)\n",
        "print(\"컬럼 방향으로 정렬:\\n\", sort_array2d_axis1)\n",
        "\n",
        "\n",
        "org_array = np.array([ 3, 1, 9, 5])\n",
        "sort_indices = np.argsort(org_array)\n",
        "print('행렬 정렬 시 원본 행렬의 인덱스:', sort_indices)\n"
      ],
      "execution_count": 0,
      "outputs": [
        {
          "output_type": "stream",
          "text": [
            "[[1 2 3]\n",
            " [4 5 6]\n",
            " [7 8 9]]\n",
            "array2d[0:2, 0:2]\n",
            " [[1 2]\n",
            " [4 5]]\n",
            "array1 > 5 불린 인덱싱 값 :  [6 7 8 9]\n",
            "[9 8 7 6 5 4 3 2 1]\n",
            "로우 방향으로 정렬:\n",
            " [[ 7  1]\n",
            " [ 8 12]]\n",
            "컬럼 방향으로 정렬:\n",
            " [[ 8 12]\n",
            " [ 1  7]]\n",
            "<class 'numpy.ndarray'>\n",
            "행렬 정렬 시 원본 행렬의 인덱스: [1 0 3 2]\n"
          ],
          "name": "stdout"
        }
      ]
    },
    {
      "cell_type": "markdown",
      "metadata": {
        "id": "cQAiileoZ5E4",
        "colab_type": "text"
      },
      "source": [
        "# 선형대수 연산\n",
        " \n",
        " - ***np.dot()***을 이용해 행렬 내적(행렬 곱)을 계산 할 수 있다.\n",
        " - 원 행렬에서 행과 열 위치를 교환한 원소로 구성한 행렬을 전치 행렬이라고 하고 이는 ***transpose()***를 이용해 쉽게 구할 수 있다."
      ]
    },
    {
      "cell_type": "code",
      "metadata": {
        "id": "dC-Ix6NxaTD4",
        "colab_type": "code",
        "outputId": "52e68e7b-cda6-41df-ffd7-4381d7e3198c",
        "colab": {
          "base_uri": "https://localhost:8080/",
          "height": 136
        }
      },
      "source": [
        "A = np.array( [[1,2,3],\n",
        "                [4,5,6]])\n",
        "B = np.array([[7,8,],\n",
        "              [9,10],\n",
        "              [11,12]])\n",
        "dot_product = np.dot(A,B)\n",
        "print(\"행렬 내적 결과:\\n\", dot_product)\n",
        "\n",
        "transpose_mat = np.transpose(A)\n",
        "print('A의 전치 행렬:\\n', transpose_mat)"
      ],
      "execution_count": 0,
      "outputs": [
        {
          "output_type": "stream",
          "text": [
            "행렬 내적 결과:\n",
            " [[ 58  64]\n",
            " [139 154]]\n",
            "A의 전치 행렬:\n",
            " [[1 4]\n",
            " [2 5]\n",
            " [3 6]]\n"
          ],
          "name": "stdout"
        }
      ]
    }
  ]
}