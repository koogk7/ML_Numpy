{
  "nbformat": 4,
  "nbformat_minor": 0,
  "metadata": {
    "colab": {
      "name": "iris_predict.ipynb",
      "version": "0.3.2",
      "provenance": [],
      "include_colab_link": true
    },
    "kernelspec": {
      "name": "python3",
      "display_name": "Python 3"
    }
  },
  "cells": [
    {
      "cell_type": "markdown",
      "metadata": {
        "id": "view-in-github",
        "colab_type": "text"
      },
      "source": [
        "<a href=\"https://colab.research.google.com/github/koogk7/ML_perfect_guide/blob/master/iris_predict.ipynb\" target=\"_parent\"><img src=\"https://colab.research.google.com/assets/colab-badge.svg\" alt=\"Open In Colab\"/></a>"
      ]
    },
    {
      "cell_type": "markdown",
      "metadata": {
        "id": "YcQnmij0swOA",
        "colab_type": "text"
      },
      "source": [
        "## 붓꽃 품종 예측하기\n",
        "\n",
        "- Supervised Learning : Label 데이터로 모델을 학습한 뒤,  별도의 테스트 데이터에서 미지의 레이블을 예측, 즉 명확한 정답이 주어진 데이터를 먼저 학습 한 뒤 정답이 없는 데이터를 예측\n",
        "\n",
        "- 과정\n",
        "  1. 학습 데이터와 테스트 데이터로 분리\n",
        "  2. 모델 학습\n",
        "  3. 예측수행\n",
        "  4. 평가"
      ]
    },
    {
      "cell_type": "code",
      "metadata": {
        "id": "KbsF7H6Htlvl",
        "colab_type": "code",
        "colab": {}
      },
      "source": [
        "from sklearn.datasets import load_iris # 사이킷런에서 자체적으로 제공하는 데이터 셋을 생성하는 모듈\n",
        "from sklearn.tree import DecisionTreeClassifier # 트리 기반 ML 알고리즘을 구현한 클래스의 모임\n",
        "from sklearn.model_selection import train_test_split # 데이터 분리 및 최적의 하이퍼 파라미터로 평가하기 위한 다양한 모듈의 모임\n",
        "import pandas as pd "
      ],
      "execution_count": 0,
      "outputs": []
    },
    {
      "cell_type": "code",
      "metadata": {
        "id": "1T_QwYX9t-Ne",
        "colab_type": "code",
        "colab": {
          "base_uri": "https://localhost:8080/",
          "height": 244
        },
        "outputId": "d0f4f7e4-bd43-4886-f50f-e4d802cf17d4"
      },
      "source": [
        "# load data set\n",
        "iris = load_iris()\n",
        "\n",
        "# iris.data는 피처만으로 된 데이터를 numpy로 가지고 있다.\n",
        "iris_data = iris.data\n",
        "\n",
        "# iris.target은 붓꽃 데이터 set에서 레이블(결정 값) 데이터를 numpy로 가지고 있다.\n",
        "iris_label = iris.target\n",
        "print('iris target 값:', iris_label)\n",
        "print('iris target 명:', iris.target_names)\n",
        "\n",
        "# 붓꽃 데이터 set을 자세히 보기위해 DataFrame으로 변환\n",
        "iris_df = pd.DataFrame(data=iris_data, columns=iris.feature_names)\n",
        "iris_df['label'] = iris.target\n",
        "iris_df.head(3)"
      ],
      "execution_count": 9,
      "outputs": [
        {
          "output_type": "stream",
          "text": [
            "iris target 값: [0 0 0 0 0 0 0 0 0 0 0 0 0 0 0 0 0 0 0 0 0 0 0 0 0 0 0 0 0 0 0 0 0 0 0 0 0\n",
            " 0 0 0 0 0 0 0 0 0 0 0 0 0 1 1 1 1 1 1 1 1 1 1 1 1 1 1 1 1 1 1 1 1 1 1 1 1\n",
            " 1 1 1 1 1 1 1 1 1 1 1 1 1 1 1 1 1 1 1 1 1 1 1 1 1 1 2 2 2 2 2 2 2 2 2 2 2\n",
            " 2 2 2 2 2 2 2 2 2 2 2 2 2 2 2 2 2 2 2 2 2 2 2 2 2 2 2 2 2 2 2 2 2 2 2 2 2\n",
            " 2 2]\n",
            "iris target 명: ['setosa' 'versicolor' 'virginica']\n"
          ],
          "name": "stdout"
        },
        {
          "output_type": "execute_result",
          "data": {
            "text/html": [
              "<div>\n",
              "<style scoped>\n",
              "    .dataframe tbody tr th:only-of-type {\n",
              "        vertical-align: middle;\n",
              "    }\n",
              "\n",
              "    .dataframe tbody tr th {\n",
              "        vertical-align: top;\n",
              "    }\n",
              "\n",
              "    .dataframe thead th {\n",
              "        text-align: right;\n",
              "    }\n",
              "</style>\n",
              "<table border=\"1\" class=\"dataframe\">\n",
              "  <thead>\n",
              "    <tr style=\"text-align: right;\">\n",
              "      <th></th>\n",
              "      <th>sepal length (cm)</th>\n",
              "      <th>sepal width (cm)</th>\n",
              "      <th>petal length (cm)</th>\n",
              "      <th>petal width (cm)</th>\n",
              "      <th>label</th>\n",
              "    </tr>\n",
              "  </thead>\n",
              "  <tbody>\n",
              "    <tr>\n",
              "      <th>0</th>\n",
              "      <td>5.1</td>\n",
              "      <td>3.5</td>\n",
              "      <td>1.4</td>\n",
              "      <td>0.2</td>\n",
              "      <td>0</td>\n",
              "    </tr>\n",
              "    <tr>\n",
              "      <th>1</th>\n",
              "      <td>4.9</td>\n",
              "      <td>3.0</td>\n",
              "      <td>1.4</td>\n",
              "      <td>0.2</td>\n",
              "      <td>0</td>\n",
              "    </tr>\n",
              "    <tr>\n",
              "      <th>2</th>\n",
              "      <td>4.7</td>\n",
              "      <td>3.2</td>\n",
              "      <td>1.3</td>\n",
              "      <td>0.2</td>\n",
              "      <td>0</td>\n",
              "    </tr>\n",
              "  </tbody>\n",
              "</table>\n",
              "</div>"
            ],
            "text/plain": [
              "   sepal length (cm)  sepal width (cm)  ...  petal width (cm)  label\n",
              "0                5.1               3.5  ...               0.2      0\n",
              "1                4.9               3.0  ...               0.2      0\n",
              "2                4.7               3.2  ...               0.2      0\n",
              "\n",
              "[3 rows x 5 columns]"
            ]
          },
          "metadata": {
            "tags": []
          },
          "execution_count": 9
        }
      ]
    },
    {
      "cell_type": "code",
      "metadata": {
        "id": "LFE2pKaawrfL",
        "colab_type": "code",
        "colab": {}
      },
      "source": [
        ""
      ],
      "execution_count": 0,
      "outputs": []
    },
    {
      "cell_type": "markdown",
      "metadata": {
        "id": "fgvWDB4Swdoo",
        "colab_type": "text"
      },
      "source": [
        "###------------------------------------------------------------\n",
        "###학습용 데이터와 테스트용 데이터 분리"
      ]
    },
    {
      "cell_type": "code",
      "metadata": {
        "id": "Sf1Jllx-wi7v",
        "colab_type": "code",
        "colab": {}
      },
      "source": [
        "# train_test_split(dataset, targetset, .....)\n",
        "# radndom_state는 호출 때마다 같은 학습/테스트 데이터를 생성하기위한 난수값, 이 값이 없다면 호출마다 다른 데이터가 만들어진다.\n",
        "X_train, X_test, y_train, y_test = train_test_split(iris_data, iris_label, \n",
        "                                                    test_size=0.2, random_state =11) # 반환값은 tuple이다."
      ],
      "execution_count": 0,
      "outputs": []
    },
    {
      "cell_type": "markdown",
      "metadata": {
        "id": "pKMWrAQSxvg0",
        "colab_type": "text"
      },
      "source": [
        "###------------------------------------------------------------\n",
        "### 의사 결정트리 학습\n",
        "\n"
      ]
    },
    {
      "cell_type": "code",
      "metadata": {
        "id": "eMYxc_DfyAsb",
        "colab_type": "code",
        "colab": {}
      },
      "source": [
        "# DecisionTreeClassifier 객체 생성\n",
        "df_clf = DecisionTreeClassifier(random_state=11)\n",
        "\n",
        "# 학습 수행\n",
        "df_clf.fit(X_train, y_train)\n"
      ],
      "execution_count": 0,
      "outputs": []
    },
    {
      "cell_type": "markdown",
      "metadata": {
        "id": "cErQ8ApMyqy1",
        "colab_type": "text"
      },
      "source": [
        "###------------------------------------------------------------\n",
        "### 모델 예측"
      ]
    },
    {
      "cell_type": "code",
      "metadata": {
        "id": "JOpBjWrDyxne",
        "colab_type": "code",
        "colab": {
          "base_uri": "https://localhost:8080/",
          "height": 34
        },
        "outputId": "20c91793-e3d4-48c8-ded2-4bcd04267ad4"
      },
      "source": [
        "from sklearn.metrics import accuracy_score\n",
        "\n",
        "# 테스트 셋으로 예측 수행\n",
        "pred = df_clf.predict(X_test)\n",
        "\n",
        "# 평가\n",
        "print('예측 정확도: {0:.4f}'.format(accuracy_score(y_test, pred)))"
      ],
      "execution_count": 15,
      "outputs": [
        {
          "output_type": "stream",
          "text": [
            "예측 정확도: 0.9333\n"
          ],
          "name": "stdout"
        }
      ]
    }
  ]
}